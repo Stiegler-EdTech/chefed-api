{
 "cells": [
  {
   "cell_type": "code",
   "execution_count": 1,
   "metadata": {},
   "outputs": [],
   "source": [
    "import coe"
   ]
  },
  {
   "cell_type": "code",
   "execution_count": 2,
   "metadata": {},
   "outputs": [
    {
     "data": {
      "text/plain": [
       "{'message': {'1': 'Ready to go!'}}"
      ]
     },
     "execution_count": 2,
     "metadata": {},
     "output_type": "execute_result"
    }
   ],
   "source": [
    "coe.flight_check()\n",
    "#outline = coe.get_last_outline()\n",
    "#outline[\"topics\"]"
   ]
  },
  {
   "cell_type": "code",
   "execution_count": 3,
   "metadata": {},
   "outputs": [
    {
     "ename": "ValueError",
     "evalue": "Invalid format specifier 'C# Fundamentals and Object-Oriented Programming in .NET Core, \"subtopic\":Variables' for object of type 'str'",
     "output_type": "error",
     "traceback": [
      "\u001b[0;31m---------------------------------------------------------------------------\u001b[0m",
      "\u001b[0;31mValueError\u001b[0m                                Traceback (most recent call last)",
      "\u001b[1;32m/Users/thomasgathings/projects/chefed-api/runner.ipynb Cell 3\u001b[0m line \u001b[0;36m3\n\u001b[1;32m      <a href='vscode-notebook-cell:/Users/thomasgathings/projects/chefed-api/runner.ipynb#W4sZmlsZQ%3D%3D?line=0'>1</a>\u001b[0m topic\u001b[39m=\u001b[39m\u001b[39m\"\u001b[39m\u001b[39mC# Fundamentals and Object-Oriented Programming in .NET Core\u001b[39m\u001b[39m\"\u001b[39m\n\u001b[1;32m      <a href='vscode-notebook-cell:/Users/thomasgathings/projects/chefed-api/runner.ipynb#W4sZmlsZQ%3D%3D?line=1'>2</a>\u001b[0m subtopic\u001b[39m=\u001b[39m\u001b[39m\"\u001b[39m\u001b[39mVariables\u001b[39m\u001b[39m\"\u001b[39m\n\u001b[0;32m----> <a href='vscode-notebook-cell:/Users/thomasgathings/projects/chefed-api/runner.ipynb#W4sZmlsZQ%3D%3D?line=2'>3</a>\u001b[0m block\u001b[39m=\u001b[39mcoe\u001b[39m.\u001b[39mgenerate_learning_block(topic, subtopic)\n\u001b[1;32m      <a href='vscode-notebook-cell:/Users/thomasgathings/projects/chefed-api/runner.ipynb#W4sZmlsZQ%3D%3D?line=3'>4</a>\u001b[0m block\n",
      "File \u001b[0;32m~/projects/chefed-api/coe.py:153\u001b[0m, in \u001b[0;36mgenerate_learning_block\u001b[0;34m(topic, subtopic)\u001b[0m\n\u001b[1;32m    152\u001b[0m \u001b[39mdef\u001b[39;00m \u001b[39mgenerate_learning_block\u001b[39m(topic, subtopic):\n\u001b[0;32m--> 153\u001b[0m    user_prompt \u001b[39m=\u001b[39m \u001b[39mf\u001b[39m\u001b[39m\"\"\"\u001b[39m\u001b[39m{\u001b[39;00m\u001b[39m\"\u001b[39m\u001b[39mtopic\u001b[39m\u001b[39m\"\u001b[39m\u001b[39m:\u001b[39;00m\u001b[39m{\u001b[39;00mtopic\u001b[39m}\u001b[39;00m\u001b[39m, \u001b[39m\u001b[39m\"\u001b[39m\u001b[39msubtopic\u001b[39m\u001b[39m\"\u001b[39m\u001b[39m:\u001b[39m\u001b[39m{\u001b[39;00msubtopic\u001b[39m}\u001b[39;00m\u001b[39m}\u001b[39;00m\u001b[39m\"\"\"\u001b[39m\n\u001b[1;32m    154\u001b[0m    \u001b[39mprint\u001b[39m(user_prompt)  \n\u001b[1;32m    155\u001b[0m    sys_prompt \u001b[39m=\u001b[39m \u001b[39mf\u001b[39m\u001b[39m\"\"\"\u001b[39m\n\u001b[1;32m    156\u001b[0m \u001b[39m   You are an experienced education curriculum writer designed to generate a paragraph or two for a given skill subtopic. \u001b[39m\n\u001b[1;32m    157\u001b[0m \u001b[39m   The content should briefly introduce the given subtopic, in context of the given topic. \u001b[39m\n\u001b[0;32m   (...)\u001b[0m\n\u001b[1;32m    161\u001b[0m \u001b[39m   A section is either blocks of text or a link to a web-searched image that illustrates the content.\u001b[39m\n\u001b[1;32m    162\u001b[0m \u001b[39m   \u001b[39m\u001b[39m\"\"\"\u001b[39m \n",
      "\u001b[0;31mValueError\u001b[0m: Invalid format specifier 'C# Fundamentals and Object-Oriented Programming in .NET Core, \"subtopic\":Variables' for object of type 'str'"
     ]
    }
   ],
   "source": [
    "topic=\"C# Fundamentals and Object-Oriented Programming in .NET Core\"\n",
    "subtopic=\"Variables\"\n",
    "block=coe.generate_learning_block(topic, subtopic)\n",
    "block"
   ]
  },
  {
   "cell_type": "code",
   "execution_count": null,
   "metadata": {},
   "outputs": [],
   "source": []
  }
 ],
 "metadata": {
  "kernelspec": {
   "display_name": "base",
   "language": "python",
   "name": "python3"
  },
  "language_info": {
   "codemirror_mode": {
    "name": "ipython",
    "version": 3
   },
   "file_extension": ".py",
   "mimetype": "text/x-python",
   "name": "python",
   "nbconvert_exporter": "python",
   "pygments_lexer": "ipython3",
   "version": "3.11.5"
  }
 },
 "nbformat": 4,
 "nbformat_minor": 2
}

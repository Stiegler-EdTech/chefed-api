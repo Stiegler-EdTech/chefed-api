{
 "cells": [
  {
   "cell_type": "code",
   "execution_count": 1,
   "metadata": {},
   "outputs": [],
   "source": [
    "import coe"
   ]
  },
  {
   "cell_type": "code",
   "execution_count": 9,
   "metadata": {},
   "outputs": [
    {
     "name": "stdout",
     "output_type": "stream",
     "text": [
      "{'format': {'type': 'json_schema', 'name': 'outline_result', 'schema': {'type': 'object', 'properties': {'overview': {'type': 'string'}, 'topics': {'type': 'array', 'items': {'type': 'object', 'properties': {'topic_name': {'type': 'string'}, 'subtopics': {'type': 'array', 'items': {'type': 'string'}}, 'learning_objectives': {'type': 'array', 'items': {'type': 'string'}}, 'hands_on_practice': {'type': 'array', 'items': {'type': 'object', 'properties': {'activity_title': {'type': 'string'}, 'description': {'type': 'string'}}, 'required': ['activity_title', 'description'], 'additionalProperties': False}}}, 'required': ['topic_name', 'subtopics', 'learning_objectives', 'hands_on_practice'], 'additionalProperties': False}}, 'additional_resources': {'type': 'array', 'items': {'type': 'string'}}}, 'required': ['overview', 'topics', 'additional_resources'], 'additionalProperties': False, 'strict': True}}}\n"
     ]
    }
   ],
   "source": [
    "coe.flight_check()\n",
    "#outline = coe.get_last_outline()\n",
    "#outline[\"topics\"]\n",
    "outline = coe.generate_outline(\"Medical coding and billing\")"
   ]
  },
  {
   "cell_type": "code",
   "execution_count": 10,
   "metadata": {},
   "outputs": [
    {
     "data": {
      "text/plain": [
       "{'overview': 'The Black–Scholes Formula for a European Call Option is a cornerstone in modern financial engineering and quantitative finance. It provides a mathematical model to price European-style call options by considering factors such as the underlying asset price, strike price, time to expiration, risk-free interest rate, and volatility. This model is fundamental for financial professionals as it not only aids in fair pricing and risk management but also lays the groundwork for more complex derivatives pricing and hedging strategies. In real-world professional settings, mastering the Black–Scholes formula enables practitioners to make informed trading, arbitrage, and investment decisions, while also understanding its limitations which drive innovation in risk assessment and financial modeling.',\n",
       " 'topics': [{'topic_name': 'Introduction to Option Pricing',\n",
       "   'subtopics': ['Overview of Options and Derivatives',\n",
       "    'Types of Options: European vs. American',\n",
       "    'Role of Options in Financial Markets'],\n",
       "   'learning_objectives': ['Define options and explain their roles in the financial markets.',\n",
       "    'Differentiate between European and American options in terms of exercise style and use cases.',\n",
       "    'Understand the basic principles and terminology of derivatives.'],\n",
       "   'hands_on_practice': [{'activity_title': 'Market Survey on Options',\n",
       "     'description': 'Review and report on real-world examples of European and American options, focusing on their pricing and market behavior. Analyze historical market data available from financial websites.'}],\n",
       "   'id': '2f506b23-e5da-42fd-8f6b-87b274928fcf'},\n",
       "  {'topic_name': 'Fundamentals of Option Pricing Theory',\n",
       "   'subtopics': ['Time Value of Money and Risk-Neutral Valuation',\n",
       "    'Statistical Measures: Volatility and Its Importance',\n",
       "    'The Concept of Underlying Asset Price Dynamics'],\n",
       "   'learning_objectives': ['Explain the time value of money and its role in discounting future payoffs.',\n",
       "    'Understand risk-neutral valuation and how it simplifies option pricing.',\n",
       "    'Interpret the significance of volatility and how it influences option prices.'],\n",
       "   'hands_on_practice': [{'activity_title': 'Risk-Neutral Valuation Exercise',\n",
       "     'description': 'Perform calculations using simplified models to demonstrate risk-neutral pricing. Use spreadsheet software to simulate the discounting of expected payoffs under different volatility scenarios.'}],\n",
       "   'id': '79e2617a-01b1-42af-a429-9fdae05bff4a'},\n",
       "  {'topic_name': 'Mathematical Formulation of the Black–Scholes Model',\n",
       "   'subtopics': ['Assumptions of the Black–Scholes Model',\n",
       "    'Derivation of the Black–Scholes Partial Differential Equation',\n",
       "    'Boundary Conditions and the Role of Lognormal Distribution'],\n",
       "   'learning_objectives': ['List and discuss the underlying assumptions of the Black–Scholes model.',\n",
       "    'Follow the derivation steps leading to the Black–Scholes partial differential equation.',\n",
       "    'Connect the choice of a lognormal distribution to modeling the underlying asset price dynamics.'],\n",
       "   'hands_on_practice': [{'activity_title': 'Derivation Walk-through',\n",
       "     'description': 'Reproduce the derivation of the Black–Scholes PDE on paper or digitally using step-by-step guidance. Validate each step with provided numerical examples.'}],\n",
       "   'id': 'f4471a3a-a542-466e-98ef-6438d98b7a7b'},\n",
       "  {'topic_name': 'Derivation and Interpretation of the Black–Scholes Formula',\n",
       "   'subtopics': ['Derivation of the European Call Option Pricing Formula',\n",
       "    'Interpreting the Formula Components: Delta, Gamma, Theta, Vega, and Rho',\n",
       "    'Sensitivity Analysis and the Greeks'],\n",
       "   'learning_objectives': ['Derive the closed-form solution for the price of a European call option.',\n",
       "    'Interpret the significance of each component of the Black–Scholes formula.',\n",
       "    \"Understand and compute the option's Greeks to evaluate the sensitivity of the option price.\"],\n",
       "   'hands_on_practice': [{'activity_title': 'Option Greeks Computation',\n",
       "     'description': 'Calculate the Greeks (Delta, Gamma, Theta, Vega, and Rho) for a set of hypothetical options using the Black–Scholes formula. Use a financial calculator or programming language.'}],\n",
       "   'id': '146067a0-9f01-46b9-bdbd-7365d9063786'},\n",
       "  {'topic_name': 'Implementation and Calibration of the Model',\n",
       "   'subtopics': ['Coding the Black–Scholes Formula in Python/Excel',\n",
       "    'Calibration of Model Parameters using Market Data',\n",
       "    'Validation of Model Outputs with Real-World Prices'],\n",
       "   'learning_objectives': ['Develop a basic implementation of the Black–Scholes formula in a preferred programming environment.',\n",
       "    'Calibrate model parameters such as volatility and risk-free rate using historical market data.',\n",
       "    'Assess the performance of the model by comparing theoretical and market option prices.'],\n",
       "   'hands_on_practice': [{'activity_title': 'Coding Project: Black–Scholes Calculator',\n",
       "     'description': \"Write a program in Python or Excel that computes European call option prices using the Black–Scholes formula. Incorporate functions to calculate the option's Greeks and validate your results using sample market data.\"}],\n",
       "   'id': 'ceee8250-822a-470a-806c-e589ca0c0327'},\n",
       "  {'topic_name': 'Limitations, Extensions, and Numerical Methods',\n",
       "   'subtopics': ['Assumptions, Limitations, and Practical Challenges',\n",
       "    'Alternative Models and Extensions (e.g., Stochastic Volatility, Jump Diffusion)',\n",
       "    'Numerical Methods: Monte Carlo Simulation and Finite Difference Methods'],\n",
       "   'learning_objectives': ['Critically evaluate the assumptions and limitations of the Black–Scholes model.',\n",
       "    'Explore how alternative models address the weaknesses of the Black–Scholes framework.',\n",
       "    'Understand basic numerical methods used to price options when closed-form solutions are not available.'],\n",
       "   'hands_on_practice': [{'activity_title': 'Monte Carlo Simulation of Option Prices',\n",
       "     'description': 'Implement a Monte Carlo simulation to price a European call option and compare the results with the Black–Scholes pricing model. Analyze the convergence and accuracy of the simulation.'}],\n",
       "   'id': 'ec9d05ba-6064-4fda-a780-a7403cd96809'}],\n",
       " 'additional_resources': [\"Research paper: 'The Pricing of Options and Corporate Liabilities' by Black and Scholes\",\n",
       "  'Online course lectures on Quantitative Finance from MIT OpenCourseWare',\n",
       "  'Interactive tutorials on option pricing and risk management available on Coursera and edX',\n",
       "  'Financial modeling communities and forums such as Quant Stack Exchange and Wilmott',\n",
       "  \"Books: 'Options, Futures, and Other Derivatives' by John C. Hull\"]}"
      ]
     },
     "execution_count": 10,
     "metadata": {},
     "output_type": "execute_result"
    }
   ],
   "source": [
    "outline"
   ]
  },
  {
   "cell_type": "code",
   "execution_count": 11,
   "metadata": {},
   "outputs": [],
   "source": [
    "import json\n",
    "# Open a file in write mode\n",
    "with open(\"samples/outline-black_scholes_formula.json\", \"w\") as file:\n",
    "    file.write(json.dumps(outline))"
   ]
  },
  {
   "cell_type": "code",
   "execution_count": 16,
   "metadata": {},
   "outputs": [
    {
     "name": "stdout",
     "output_type": "stream",
     "text": [
      "Fundamentals of Option Pricing Theory  |  The Concept of Underlying Asset Price Dynamics\n"
     ]
    }
   ],
   "source": [
    "print(outline[\"topics\"][1][\"topic_name\"],\" | \", outline[\"topics\"][1][\"subtopics\"][2])"
   ]
  },
  {
   "cell_type": "code",
   "execution_count": 18,
   "metadata": {},
   "outputs": [
    {
     "name": "stdout",
     "output_type": "stream",
     "text": [
      "subtopic=Time Value of Money and Risk-Neutral Valuation | topic=Fundamentals of Option Pricing Theory\n"
     ]
    },
    {
     "data": {
      "text/plain": [
       "{'topic': 'Fundamentals of Option Pricing Theory',\n",
       " 'subtopic': 'Time Value of Money and Risk-Neutral Valuation',\n",
       " 'blocks': [{'block_type': 'text',\n",
       "   'content': 'Introduction: In the realm of option pricing theory, two foundational concepts underpin most of the methodologies used in practice: the time value of money and risk-neutral valuation. Understanding the time value of money is essential because it captures the basic financial principle that a dollar available today is worth more than a dollar available in the future. This concept is the backbone of discounting future cash flows, as it accounts for the opportunity cost and the risk associated with waiting. In options pricing, discounting predicted payoffs at the appropriate interest rate helps in determining the present value of an option.',\n",
       "   'id': 'cba25075-bc05-462a-aafd-26aeac510f07'},\n",
       "  {'block_type': 'text',\n",
       "   'content': \"Time Value of Money: The time value of money is typically quantified through discounting techniques where future cash flows are expressed in today's monetary value. This involves using a risk-free interest rate—often reflective of government bond yields—to compute the present value using formulas such as PV = CF / (1 + r)^t. In this formula, CF represents the future cash flow, r is the risk-free rate, and t is the time period until the cash flow occurs. This financial foundation is critical for understanding how option pricing models, like the Black-Scholes and binomial models, adjust future payoffs to derive their current prices in a market that is generally assumed to be free of arbitrage.\",\n",
       "   'id': 'e9506698-9976-4fd4-bf06-713605191658'},\n",
       "  {'block_type': 'text',\n",
       "   'content': \"Risk-Neutral Valuation Explained: Risk-neutral valuation is a probabilistic framework used to price options and other derivatives. Rather than focusing on real-world probabilities, this approach constructs an equivalent martingale measure (the risk-neutral measure) in which asset prices are expected to grow at the risk-free rate. Under this measure, the complexity of incorporating varying degrees of risk aversion is bypassed; instead, all risks are effectively 'neutralized.' As a result, the price of an option can be computed as the discounted expected value of its payoffs under the risk-neutral probability measure. This transformation is indispensable in ensuring that all derivative prices are consistent with the no-arbitrage principle—a cornerstone in financial theory.\",\n",
       "   'id': '4eb43866-5324-4ca1-87a2-a0031822ca15'},\n",
       "  {'block_type': 'image',\n",
       "   'content': 'https://via.placeholder.com/800x400?text=Risk+Neutral+Pricing+Diagram',\n",
       "   'id': '4bcac500-0f20-4f29-af62-199d66bbc3de'},\n",
       "  {'block_type': 'text',\n",
       "   'content': 'Practical Implementation in Option Pricing Models: The integration of time value of money with risk-neutral valuation becomes particularly clear in discrete-time models such as the binomial option pricing model. In such a framework, one constructs a recombining tree where each node represents a possible future asset price, and transitions are governed by risk-neutral probabilities. These probabilities are adjusted in a way that the expected return on the asset, when discounted at the risk-free rate, replicates the current price. In continuous-time models like Black-Scholes, similar principles apply—the expected payoff under the risk-neutral measure is discounted continuously at the risk-free rate. The shift from real-world probabilities to risk-neutral probabilities simplifies the mathematical complexities involved in pricing while ensuring the no-arbitrage condition holds.',\n",
       "   'id': 'ca252bdf-99c7-4e92-88d7-611143467d79'},\n",
       "  {'block_type': 'text',\n",
       "   'content': \"Bridging Theory and Practice: In professional settings, risk-neutral valuation is not only a theoretical construct but also a practical tool used in the pricing and hedging of derivative securities. Financial engineers and traders routinely calibrate option pricing models to market data by implementing hedging strategies that rely on the premise of no arbitrage opportunities. The concept of replication—the construction of a portfolio that mimics the option's payoff—is directly linked to the risk-neutral framework. By continuously adjusting the replicating portfolio, practitioners can manage risk and lock in the option’s price based on the discounted expected future payoff.\",\n",
       "   'id': '1258df78-0c4e-4933-b7a9-f313686cea97'},\n",
       "  {'block_type': 'text',\n",
       "   'content': 'Conclusion: Mastery of the time value of money and risk-neutral valuation techniques is critical for anyone involved in options pricing and risk management. These concepts enable practitioners to derive option prices that are consistent with market realities while ensuring mathematical rigor through the no-arbitrage principle. Whether one is using a discrete binomial model or the continuous Black-Scholes formula, the integration of these core financial principles helps in building robust pricing models that are essential for strategic decision-making in modern financial markets.',\n",
       "   'id': '1ee2e45e-c80e-46b5-93dc-0713a74c5e12'}]}"
      ]
     },
     "execution_count": 18,
     "metadata": {},
     "output_type": "execute_result"
    }
   ],
   "source": [
    "#topic=\"C# Fundamentals and Object-Oriented Programming in .NET Core\"\n",
    "#subtopic=\"Variables\"\n",
    "\n",
    "topic = outline[\"topics\"][1][\"topic_name\"]\n",
    "subtopic=outline[\"topics\"][1][\"subtopics\"][0]\n",
    "block=coe.generate_learning_block(topic, subtopic)\n",
    "block"
   ]
  },
  {
   "cell_type": "code",
   "execution_count": null,
   "metadata": {},
   "outputs": [],
   "source": []
  }
 ],
 "metadata": {
  "kernelspec": {
   "display_name": "base",
   "language": "python",
   "name": "python3"
  },
  "language_info": {
   "codemirror_mode": {
    "name": "ipython",
    "version": 3
   },
   "file_extension": ".py",
   "mimetype": "text/x-python",
   "name": "python",
   "nbconvert_exporter": "python",
   "pygments_lexer": "ipython3",
   "version": "3.11.5"
  }
 },
 "nbformat": 4,
 "nbformat_minor": 2
}

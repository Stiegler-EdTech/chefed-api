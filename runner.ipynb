{
 "cells": [
  {
   "cell_type": "code",
   "execution_count": 1,
   "metadata": {},
   "outputs": [],
   "source": [
    "import coe"
   ]
  },
  {
   "cell_type": "code",
   "execution_count": 2,
   "metadata": {},
   "outputs": [
    {
     "name": "stdout",
     "output_type": "stream",
     "text": [
      "{'format': {'type': 'json_schema', 'name': 'outline_result', 'schema': {'type': 'object', 'properties': {'overview': {'type': 'string'}, 'topics': {'type': 'array', 'items': {'type': 'object', 'properties': {'topic_name': {'type': 'string'}, 'subtopics': {'type': 'array', 'items': {'type': 'string'}}, 'learning_objectives': {'type': 'array', 'items': {'type': 'string'}}, 'hands_on_practice': {'type': 'array', 'items': {'type': 'object', 'properties': {'activity_title': {'type': 'string'}, 'description': {'type': 'string'}}, 'required': ['activity_title', 'description'], 'additionalProperties': False}}}, 'required': ['topic_name', 'subtopics', 'learning_objectives', 'hands_on_practice'], 'additionalProperties': False}}, 'additional_resources': {'type': 'array', 'items': {'type': 'string'}}}, 'required': ['overview', 'topics', 'additional_resources'], 'additionalProperties': False, 'strict': True}}}\n"
     ]
    }
   ],
   "source": [
    "coe.flight_check()\n",
    "#outline = coe.get_last_outline()\n",
    "#outline[\"topics\"]\n",
    "outline = coe.generate_outline(\".Net Core\")"
   ]
  },
  {
   "cell_type": "code",
   "execution_count": 4,
   "metadata": {},
   "outputs": [
    {
     "data": {
      "text/plain": [
       "{'overview': \"This course on .NET Core is designed to equip learners with the skills required to build modern, cross-platform, high-performance applications. .NET Core is an open-source, cross-platform version of Microsoft's .NET Framework that enables developers to build applications for Windows, Linux, and macOS. Throughout this course, learners will explore the core architecture, programming concepts using C#, cloud integration, and deployment techniques, making them well-prepared for real-world professional settings where scalable, efficient, and secure applications are in demand.\",\n",
       " 'topics': [{'topic_name': 'Introduction to .NET Core',\n",
       "   'subtopics': ['Overview of .NET Core and its evolution',\n",
       "    'Differences between .NET Core and .NET Framework',\n",
       "    'Installation and development environment setup',\n",
       "    'Understanding the CLI tools and project structure'],\n",
       "   'learning_objectives': ['Understand the purpose and benefits of .NET Core',\n",
       "    'Set up a development environment for .NET Core',\n",
       "    'Navigate and create a basic .NET Core project using CLI and IDEs'],\n",
       "   'hands_on_practice': [{'activity_title': 'Environment Setup and Hello World',\n",
       "     'description': \"Install the .NET Core SDK and create a simple 'Hello World' console application using the command line and Visual Studio Code.\"}],\n",
       "   'id': 'cfc2e98d-7b40-43ab-93e5-4679f31e221a'},\n",
       "  {'topic_name': 'C# Fundamentals for .NET Core',\n",
       "   'subtopics': ['Review of C# basics: syntax, data types, and control structures',\n",
       "    'Object-Oriented Programming concepts in C#',\n",
       "    'Using LINQ for data manipulation',\n",
       "    'Modern C# features relevant to .NET Core'],\n",
       "   'learning_objectives': ['Refresh and apply C# programming fundamentals',\n",
       "    'Implement OOP concepts effectively in .NET Core applications',\n",
       "    'Utilize LINQ to work with data collections',\n",
       "    'Adopt modern C# features in application development'],\n",
       "   'hands_on_practice': [{'activity_title': 'Console Application Project',\n",
       "     'description': 'Develop a small console application that incorporates object-oriented design and LINQ queries to manage a simple data set (e.g., contacts or inventory).'}],\n",
       "   'id': 'd5ef4226-7a21-4c1a-86a3-1d6dff31e593'},\n",
       "  {'topic_name': 'Building Web Applications with ASP.NET Core',\n",
       "   'subtopics': ['Introduction to ASP.NET Core and its architecture',\n",
       "    'Understanding MVC and Razor Pages',\n",
       "    'Routing, Controllers, and Views',\n",
       "    'Middleware and Dependency Injection concepts'],\n",
       "   'learning_objectives': ['Design and build web applications using ASP.NET Core',\n",
       "    'Understand and implement the MVC pattern',\n",
       "    'Utilize dependency injection for loosely coupled code',\n",
       "    'Integrate middleware components in the request pipeline'],\n",
       "   'hands_on_practice': [{'activity_title': 'CRUD Web Application',\n",
       "     'description': 'Create a simple CRUD web application (e.g., a task manager) using ASP.NET Core MVC that interacts with a database.'}],\n",
       "   'id': '1929cde4-84c3-49a0-9858-bf1c166931fe'},\n",
       "  {'topic_name': 'Data Access with Entity Framework (EF) Core',\n",
       "   'subtopics': ['Introduction to Object-Relational Mapping (ORM)',\n",
       "    'Code First and Database First approaches',\n",
       "    'Performing CRUD operations with EF Core',\n",
       "    'Using LINQ for database queries'],\n",
       "   'learning_objectives': ['Implement data access layers using EF Core',\n",
       "    'Choose and execute the appropriate data modeling approach',\n",
       "    'Perform data operations using EF Core and LINQ',\n",
       "    'Manage migrations and database updates effectively'],\n",
       "   'hands_on_practice': [{'activity_title': 'EF Core Console Application',\n",
       "     'description': 'Develop a console application that performs CRUD operations on a relational database using EF Core and code-first migrations.'}],\n",
       "   'id': '27dcdade-f417-44d1-8a81-c7c28c240d09'},\n",
       "  {'topic_name': 'Developing APIs and Microservices',\n",
       "   'subtopics': ['Fundamentals of RESTful API design',\n",
       "    'Building APIs using ASP.NET Core',\n",
       "    'Introduction to microservices architecture',\n",
       "    'Authentication, authorization, and security best practices'],\n",
       "   'learning_objectives': ['Design and implement RESTful APIs using ASP.NET Core',\n",
       "    'Understand the principles of microservices architecture',\n",
       "    'Secure applications and APIs with modern authentication mechanisms',\n",
       "    'Apply best practices in API versioning and documentation'],\n",
       "   'hands_on_practice': [{'activity_title': 'REST API Project',\n",
       "     'description': 'Create a RESTful API for an e-commerce system that supports basic operations such as product listing, order processing, and user management.'}],\n",
       "   'id': '91cdf620-4ccd-47b3-a0a5-0a216fe27de7'},\n",
       "  {'topic_name': 'Cross-Platform Development and Deployment',\n",
       "   'subtopics': ['Running .NET Core applications on Windows, Linux, and macOS',\n",
       "    'Containerization with Docker',\n",
       "    'CI/CD integration with tools like Azure DevOps or GitHub Actions',\n",
       "    'Cloud deployment strategies (Azure, AWS, etc.)'],\n",
       "   'learning_objectives': ['Deploy .NET Core applications across multiple platforms',\n",
       "    'Utilize Docker to containerize and run applications in isolated environments',\n",
       "    'Integrate continuous integration and deployment pipelines',\n",
       "    'Plan and execute cloud-based deployments'],\n",
       "   'hands_on_practice': [{'activity_title': 'Dockerized Application Deployment',\n",
       "     'description': 'Containerize an existing ASP.NET Core application using Docker and deploy it to a cloud platform or a local container orchestration platform.'}],\n",
       "   'id': '508f167a-e7a4-4b42-b841-dcb3af713cdb'},\n",
       "  {'topic_name': 'Testing, Debugging, and Performance Tuning',\n",
       "   'subtopics': ['Unit testing with xUnit and MSTest',\n",
       "    'Integration and end-to-end testing strategies',\n",
       "    'Debugging techniques using Visual Studio tools',\n",
       "    'Performance profiling and optimization'],\n",
       "   'learning_objectives': ['Write comprehensive unit and integration tests for .NET Core applications',\n",
       "    'Utilize debugging tools and techniques to identify and resolve issues',\n",
       "    'Apply performance profiling to enhance application responsiveness',\n",
       "    'Implement best practices for error handling and logging'],\n",
       "   'hands_on_practice': [{'activity_title': 'Testing and Debugging Exercise',\n",
       "     'description': \"Develop and execute unit tests for an existing project using xUnit, and practice debugging techniques using Visual Studio's diagnostic tools.\"}],\n",
       "   'id': 'ab8a0954-b920-41a1-b5e6-35cd96ee2885'},\n",
       "  {'topic_name': 'Advanced Topics and Best Practices',\n",
       "   'subtopics': ['Security considerations in .NET Core applications',\n",
       "    'Scalability and performance best practices',\n",
       "    'Real-time applications with SignalR',\n",
       "    'Advanced dependency injection and customization'],\n",
       "   'learning_objectives': ['Implement advanced security measures and best practices',\n",
       "    'Design applications for high scalability and performance',\n",
       "    'Utilize SignalR for real-time web functionality',\n",
       "    'Customize dependency injection for complex application structures'],\n",
       "   'hands_on_practice': [{'activity_title': 'Real-Time Application with SignalR',\n",
       "     'description': 'Build a real-time notification system or chat application using SignalR to understand real-time communication in web apps.'}],\n",
       "   'id': '3bd51f8b-026c-4b44-b92f-c390719c0e1f'}],\n",
       " 'additional_resources': ['Microsoft Official .NET Documentation (docs.microsoft.com/dotnet)',\n",
       "  'Pluralsight courses on .NET Core and ASP.NET Core',\n",
       "  'YouTube video tutorials on containerization and microservices using .NET Core',\n",
       "  'GitHub repositories featuring sample .NET Core projects',\n",
       "  'Community forums such as Stack Overflow and the .NET Foundation Community']}"
      ]
     },
     "execution_count": 4,
     "metadata": {},
     "output_type": "execute_result"
    }
   ],
   "source": [
    "outline"
   ]
  },
  {
   "cell_type": "code",
   "execution_count": 3,
   "metadata": {},
   "outputs": [
    {
     "name": "stdout",
     "output_type": "stream",
     "text": [
      "subtopic=Variables | topic=C# Fundamentals and Object-Oriented Programming in .NET Core\n"
     ]
    },
    {
     "data": {
      "text/plain": [
       "{'topic': 'C# Fundamentals and Object-Oriented Programming in .NET Core',\n",
       " 'subtopic': 'Variables',\n",
       " 'blocks': [{'block_type': 'text',\n",
       "   'content': 'Introduction to Variables in C#:\\n\\nIn C#, variables serve as the fundamental building blocks of any program. They act as named containers in which data is stored, manipulated, and referenced throughout the code. In the context of object-oriented programming in .NET Core, understanding variables is essential for designing and implementing robust applications. With a strong type system in C#, every variable is associated with a specific data type, ensuring type safety and helping to catch errors at compile time.',\n",
       "   'id': '13ff9f72-b836-4a25-b121-93826711c80c'},\n",
       "  {'block_type': 'text',\n",
       "   'content': \"Variable Declaration, Initialization, and Data Types:\\n\\nVariables in C# are declared by first specifying the data type, followed by the variable name, and optionally assigning an initial value. For example, an integer variable can be declared and initialized with the statement 'int myNumber = 10;'. C# supports a variety of built-in data types such as int, double, char, bool, and string, each designed to handle different kinds of data. Beyond these, developers can also create custom data types and leverage object references to support rich object-oriented designs within the .NET Core environment.\",\n",
       "   'id': 'f85ab6fa-1c7e-4a55-aa10-4a33de8a60a6'},\n",
       "  {'block_type': 'text',\n",
       "   'content': 'Variable Naming, Conventions, and Type Safety:\\n\\nAdhering to consistent naming conventions is a key aspect of writing clear and maintainable code. In C#, local variables typically follow camelCase naming conventions, while properties and methods often use PascalCase. Because C# is a strongly typed language, every variable is bound to a specific data type at compile time. This insistence on type safety means that any attempt to assign a value of an incompatible type will result in a compile-time error, thus minimizing runtime issues and making the codebase more robust.',\n",
       "   'id': '36060824-8e60-48e3-8d8d-c08cff862b42'},\n",
       "  {'block_type': 'text',\n",
       "   'content': \"Type Inference with the 'var' Keyword:\\n\\nTo make code cleaner and reduce redundancy, C# offers the 'var' keyword, which allows the compiler to infer a variable’s type based on the right-hand side expression. For example, the statement 'var count = 5;' enables the compiler to determine that 'count' is an integer. While using 'var' can increase code readability by reducing verbosity, it is important to use it judiciously; ensure that the inferred type is clear from the context so that the code remains understandable to other developers.\",\n",
       "   'id': '990eadb1-6d12-42b1-b545-11cf7aff64d3'},\n",
       "  {'block_type': 'image',\n",
       "   'content': \"https://via.placeholder.com/800x400?text=C%23+Type+Inference+Diagram\\n\\nThis diagram illustrates how the 'var' keyword in C# enables type inference. It visually demonstrates the process where the compiler analyzes the initializer to deduce the variable’s type, offering a clear comparison between explicit type declarations and implicit typing.\",\n",
       "   'id': '4334a493-c304-4180-ace5-0c1b0045de67'},\n",
       "  {'block_type': 'text',\n",
       "   'content': \"Constants and Readonly Variables:\\n\\nIn many scenarios, you need to work with values that should not change after their initialization. C# provides the 'const' keyword for declaring compile-time constants, ensuring that their values remain fixed throughout the execution of the application. For cases where a variable’s value is determined at runtime but should not change after assignment (typically within a constructor), the 'readonly' modifier is used. Leveraging these features not only prevents accidental modification of important values but also enhances the predictability and integrity of the code.\",\n",
       "   'id': 'f74a2fb4-5322-4d7f-beb2-f03cd7157625'},\n",
       "  {'block_type': 'text',\n",
       "   'content': 'Variable Scope and Lifetime in C#:\\n\\nThe scope and lifetime of a variable determine where and how long the variable can be accessed. Local variables, declared within methods or blocks, are accessible only within those confines and exist only during the execution of that block. In contrast, instance variables (fields) are tied to a specific object and persist as long as that object exists, while static variables are shared across all instances of a class and persist for the duration of the application. A clear understanding of these concepts is vital for managing resources effectively and for preventing bugs related to variable access.',\n",
       "   'id': '8f188114-1a42-4f3b-9d88-994c2e1bf0e5'},\n",
       "  {'block_type': 'text',\n",
       "   'content': \"Value Types vs. Reference Types and Best Practices:\\n\\nAn essential aspect of working with variables in C# is understanding the difference between value types and reference types. Value types, including built-in data types like int, double, and structs, are stored on the stack and are copied by value. This means each variable holds its own independent copy of the data. Reference types, on the other hand, such as classes and arrays, are stored on the heap, and variables hold a reference to the data's location in memory. This has implications for performance and memory management, especially in an object-oriented context. Moreover, it is important to follow best practices: choose descriptive names, limit the scope of variables to where they are needed, and select the appropriate type to accurately represent your data. Mastering these fundamentals will enable you to develop high-quality, efficient applications within the .NET Core ecosystem.\",\n",
       "   'id': '0c3c86d3-597e-40bb-97fa-8e1e4f59fa04'}]}"
      ]
     },
     "execution_count": 3,
     "metadata": {},
     "output_type": "execute_result"
    }
   ],
   "source": [
    "topic=\"C# Fundamentals and Object-Oriented Programming in .NET Core\"\n",
    "subtopic=\"Variables\"\n",
    "block=coe.generate_learning_block(topic, subtopic)\n",
    "block"
   ]
  },
  {
   "cell_type": "code",
   "execution_count": null,
   "metadata": {},
   "outputs": [],
   "source": []
  }
 ],
 "metadata": {
  "kernelspec": {
   "display_name": "base",
   "language": "python",
   "name": "python3"
  },
  "language_info": {
   "codemirror_mode": {
    "name": "ipython",
    "version": 3
   },
   "file_extension": ".py",
   "mimetype": "text/x-python",
   "name": "python",
   "nbconvert_exporter": "python",
   "pygments_lexer": "ipython3",
   "version": "3.11.5"
  }
 },
 "nbformat": 4,
 "nbformat_minor": 2
}
